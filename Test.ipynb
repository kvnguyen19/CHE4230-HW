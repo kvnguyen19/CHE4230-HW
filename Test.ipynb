{
 "cells": [
  {
   "cell_type": "code",
   "execution_count": null,
   "metadata": {},
   "outputs": [],
   "source": []
  }
 ],
 "metadata": {
  "kernelspec": {
   "display_name": "Python 3",
   "language": "python",
   "name": "python3"
  },
  "language_info": {
   "name": "python",
   "version": "3.9.16 (main, Jan 11 2023, 10:02:19) \n[Clang 14.0.6 ]"
  },
  "orig_nbformat": 4,
  "vscode": {
   "interpreter": {
    "hash": "89dbf0bcdd788c2123be0ec2c0ccbbd1bf598aa22ea2917bd75986a5ff68b79c"
   }
  }
 },
 "nbformat": 4,
 "nbformat_minor": 2
}
