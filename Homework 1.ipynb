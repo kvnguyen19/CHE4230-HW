{
 "cells": [
  {
   "cell_type": "code",
   "execution_count": 1,
   "metadata": {},
   "outputs": [],
   "source": [
    "import numpy as np"
   ]
  },
  {
   "cell_type": "code",
   "execution_count": 21,
   "metadata": {},
   "outputs": [
    {
     "name": "stdout",
     "output_type": "stream",
     "text": [
      "Part A\n",
      "Maximum = 87\n",
      "Minimum = 3\n",
      "Sum = 215\n",
      "\n",
      "Part B\n",
      "[ 3  4  6 10 12 39 54 87]\n",
      "\n",
      "Part C - Listing:\n",
      "3\n",
      "4\n",
      "6\n",
      "10\n",
      "39\n",
      "87\n",
      "12\n",
      "54\n"
     ]
    }
   ],
   "source": [
    "#Problem 2 : Given a list:\n",
    "\n",
    "#list given in homework prompt\n",
    "list_a = [3,4,6,10,39,87,12,54]\n",
    "\n",
    "#Part A. Find the maximum, minimum, and summation number of the list\n",
    "maximum = np.amax(list_a)\n",
    "minimum = np.amin(list_a)\n",
    "summation = np.sum(list_a)\n",
    "print (\"Part A\")\n",
    "print (\"Maximum =\", maximum)\n",
    "print (\"Minimum =\", minimum)\n",
    "print (\"Sum =\", summation)\n",
    "print (\"\")\n",
    "\n",
    "#Part B Sort the list in ascending order\n",
    "ascending = np.sort(list_a)\n",
    "print (\"Part B\")\n",
    "print (ascending)\n",
    "print (\"\")\n",
    "\n",
    "\n",
    "#Part C Write a for loop to print each element in list_a\n",
    "print(\"Part C - Listing:\")\n",
    "for loop in list_a:\n",
    "    print (loop)\n"
   ]
  },
  {
   "cell_type": "markdown",
   "metadata": {},
   "source": []
  },
  {
   "cell_type": "code",
   "execution_count": 82,
   "metadata": {},
   "outputs": [
    {
     "name": "stdout",
     "output_type": "stream",
     "text": [
      "21 is not a prime number\n"
     ]
    }
   ],
   "source": [
    "#Problem 3 : A prime number is a whole number greater than 1 whose only factors are 1 and itself. A factor is a whole number that be divided evenly into another number.\n",
    "\n",
    "#Part A. Based on the definition of prime number, define a function to determine whether an input integer is a prime number or not.\n",
    "def prime(number) :\n",
    "    if number == 1 or number % 2 == 0 or number % 3 == 0 or number % 5 == 0 or number % 7 == 0 or number % 11 == 0:\n",
    "        print (number, \"is not a prime number\")\n",
    "        return \n",
    "    else:\n",
    "        print (number, \"is a prime number\")\n",
    "        return\n",
    "\n",
    "prime (21)\n",
    "\n",
    "#Part B. Find all prime numbers below 100\n",
    "#Part C. Define a function to find all prime numbers below a custom-defined number n\n",
    "\n",
    "def finder(n) :\n",
    "    i = n\n",
    "    while i > 0:\n",
    "        if n % 2 == 0 or n % 3 == 0 or n % 5 == 0 or n % 7 ==  0 or n % 11:\n",
    "            continue\n",
    "        else:\n",
    "            print (i)\n",
    "        i = i - 1\n",
    "\n",
    "finder(100)"
   ]
  },
  {
   "cell_type": "code",
   "execution_count": null,
   "metadata": {},
   "outputs": [],
   "source": [
    "#Problem 4 :"
   ]
  }
 ],
 "metadata": {
  "kernelspec": {
   "display_name": "Python 3",
   "language": "python",
   "name": "python3"
  },
  "language_info": {
   "codemirror_mode": {
    "name": "ipython",
    "version": 3
   },
   "file_extension": ".py",
   "mimetype": "text/x-python",
   "name": "python",
   "nbconvert_exporter": "python",
   "pygments_lexer": "ipython3",
   "version": "3.9.16"
  },
  "orig_nbformat": 4,
  "vscode": {
   "interpreter": {
    "hash": "89dbf0bcdd788c2123be0ec2c0ccbbd1bf598aa22ea2917bd75986a5ff68b79c"
   }
  }
 },
 "nbformat": 4,
 "nbformat_minor": 2
}
