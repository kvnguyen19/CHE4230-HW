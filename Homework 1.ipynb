{
 "cells": [
  {
   "cell_type": "code",
   "execution_count": 149,
   "metadata": {},
   "outputs": [],
   "source": [
    "import numpy as np\n",
    "import matplotlib.pyplot as plt"
   ]
  },
  {
   "cell_type": "code",
   "execution_count": 92,
   "metadata": {},
   "outputs": [
    {
     "name": "stdout",
     "output_type": "stream",
     "text": [
      "Part A\n",
      "Maximum = 87\n",
      "Minimum = 3\n",
      "Sum = 215\n",
      "\n",
      "Part B\n",
      "[ 3  4  6 10 12 39 54 87]\n",
      "\n",
      "Part C - Listing:\n",
      "3\n",
      "4\n",
      "6\n",
      "10\n",
      "39\n",
      "87\n",
      "12\n",
      "54\n"
     ]
    }
   ],
   "source": [
    "#Problem 2 : Given a list:\n",
    "\n",
    "#list given in homework prompt\n",
    "list_a = [3,4,6,10,39,87,12,54]\n",
    "\n",
    "#Part A. Find the maximum, minimum, and summation number of the list\n",
    "maximum = np.amax(list_a)\n",
    "minimum = np.amin(list_a)\n",
    "summation = np.sum(list_a)\n",
    "print (\"Part A\")\n",
    "print (\"Maximum =\", maximum)\n",
    "print (\"Minimum =\", minimum)\n",
    "print (\"Sum =\", summation)\n",
    "print (\"\")\n",
    "\n",
    "#Part B Sort the list in ascending order\n",
    "ascending = np.sort(list_a)\n",
    "print (\"Part B\")\n",
    "print (ascending)\n",
    "print (\"\")\n",
    "\n",
    "\n",
    "#Part C Write a for loop to print each element in list_a\n",
    "print(\"Part C - Listing:\")\n",
    "for loop in list_a:\n",
    "    print (loop)\n"
   ]
  },
  {
   "cell_type": "code",
   "execution_count": 183,
   "metadata": {},
   "outputs": [
    {
     "name": "stdout",
     "output_type": "stream",
     "text": [
      "21 is not a prime number\n",
      "prime numbers:\n",
      "2\n",
      "3\n",
      "5\n",
      "7\n",
      "11\n",
      "13\n",
      "17\n",
      "19\n",
      "23\n",
      "29\n",
      "31\n",
      "37\n",
      "41\n",
      "43\n",
      "47\n",
      "53\n",
      "59\n",
      "61\n",
      "67\n",
      "71\n",
      "73\n",
      "79\n",
      "83\n",
      "89\n",
      "97\n"
     ]
    }
   ],
   "source": [
    "#Problem 3 : A prime number is a whole number greater than 1 whose only factors are 1 and itself. A factor is a whole number that be divided evenly into another number.\n",
    "\n",
    "#Part A. Based on the definition of prime number, define a function to determine whether an input integer is a prime number or not.\n",
    "def prime(number) :\n",
    "    if number == 1 or number % 2 == 0 or number % 3 == 0 or number % 5 == 0 or number % 7 == 0 or number % 11 == 0:\n",
    "        print (number, \"is not a prime number\")\n",
    "        return \n",
    "    else:\n",
    "        print (number, \"is a prime number\")\n",
    "        return\n",
    "\n",
    "prime (21)\n",
    "\n",
    "#Part B. Find all prime numbers below 100\n",
    "#Part C. Define a function to find all prime numbers below a custom-defined number n\n",
    "\n",
    "def finder(n) :\n",
    "    print (\"prime numbers:\")\n",
    "    for n in range(2,n):\n",
    "        if n == 2 or n == 3 or n==5 or n==7 or n ==11:\n",
    "            print(n)\n",
    "        if n % 2 == 0 or n % 3 == 0 or n % 5 == 0 or n % 7 == 0 or n % 11 == 0:\n",
    "            n = n - 1\n",
    "        else:\n",
    "            print (n)\n",
    "        n = n - 1\n",
    "\n",
    "\n",
    "\n",
    "finder(100)"
   ]
  },
  {
   "cell_type": "code",
   "execution_count": 147,
   "metadata": {},
   "outputs": [
    {
     "name": "stdout",
     "output_type": "stream",
     "text": [
      "[[[0. 0. 0.]\n",
      "  [0. 0. 0.]\n",
      "  [0. 0. 0.]]\n",
      "\n",
      " [[0. 0. 0.]\n",
      "  [0. 0. 0.]\n",
      "  [0. 0. 0.]]\n",
      "\n",
      " [[0. 0. 0.]\n",
      "  [0. 0. 0.]\n",
      "  [0. 0. 0.]]\n",
      "\n",
      " [[0. 0. 0.]\n",
      "  [0. 0. 0.]\n",
      "  [0. 0. 0.]]\n",
      "\n",
      " [[0. 0. 0.]\n",
      "  [0. 0. 0.]\n",
      "  [0. 0. 0.]]\n",
      "\n",
      " [[0. 0. 0.]\n",
      "  [0. 0. 0.]\n",
      "  [0. 0. 0.]]\n",
      "\n",
      " [[0. 0. 0.]\n",
      "  [0. 0. 0.]\n",
      "  [0. 0. 0.]]\n",
      "\n",
      " [[0. 0. 0.]\n",
      "  [0. 0. 0.]\n",
      "  [0. 0. 0.]]\n",
      "\n",
      " [[0. 0. 0.]\n",
      "  [0. 0. 0.]\n",
      "  [0. 0. 0.]]\n",
      "\n",
      " [[0. 0. 0.]\n",
      "  [0. 0. 0.]\n",
      "  [0. 0. 0.]]]\n",
      "\n",
      "[[[0.60485903 0.19303262 0.39993759]\n",
      "  [0.53888964 0.25743375 0.75907674]\n",
      "  [0.75315841 0.43562168 0.81577471]]\n",
      "\n",
      " [[0.08856086 0.51598487 0.7514416 ]\n",
      "  [0.86048269 0.45692591 0.43724903]\n",
      "  [0.30426046 0.27881006 0.63356483]]\n",
      "\n",
      " [[0.09770087 0.30054707 0.21093115]\n",
      "  [0.79512621 0.47931542 0.52902142]\n",
      "  [0.15860151 0.63645113 0.55184238]]\n",
      "\n",
      " [[0.87136645 0.94162391 0.12518621]\n",
      "  [0.25379195 0.72320903 0.32098295]\n",
      "  [0.23115214 0.11510071 0.83596688]]\n",
      "\n",
      " [[0.01123321 0.33808061 0.98241182]\n",
      "  [0.94490098 0.23742473 0.09878045]\n",
      "  [0.99506385 0.04134056 0.92829125]]]\n"
     ]
    }
   ],
   "source": [
    "#Problem 4 : Define a function to output a 3D (nx3x3) numpy array, where n is the input value (argument) of the function to control the length of the array, and data is the input value that determines what kind of data it contains\n",
    "\n",
    "def datafunction(data, argument):\n",
    "    if data == 0:\n",
    "        matrix = np.zeros((argument,3,3))\n",
    "        print (matrix)\n",
    "    else:\n",
    "        matrix = np.random.rand(argument,3,3)\n",
    "        print (matrix)\n",
    "\n",
    "#Part B. Call the function for n=10 and populate the array with zeroes\n",
    "datafunction(0,10)\n",
    "print (\"\")\n",
    "\n",
    "#Part C. Call the function for n=5 and populate the array with random numbers between 1 and 100\n",
    "datafunction(4,5)\n",
    "\n",
    "    "
   ]
  },
  {
   "cell_type": "code",
   "execution_count": 109,
   "metadata": {},
   "outputs": [
    {
     "name": "stdout",
     "output_type": "stream",
     "text": [
      "[-1.34545455  1.69090909 -1.45454545]\n"
     ]
    }
   ],
   "source": [
    "#Problem 5 : Solve following set of equation using linear algebra and numpy.\n",
    "\n",
    "#Eq1: 3a+4b-5c=10\n",
    "#Eq2: 5b+c=8\n",
    "#Eq3: a+3b+6c=-5\n",
    "\n",
    "A = np.array([[3,4,-5],[0,5,1],[1,3,6]])\n",
    "B = np.array([10,7,-5])\n",
    "\n",
    "ans = np.linalg.inv(A).dot(B)\n",
    "\n",
    "print (ans)"
   ]
  },
  {
   "cell_type": "code",
   "execution_count": 164,
   "metadata": {},
   "outputs": [
    {
     "data": {
      "image/png": "[encoded data removed]",
      "text/plain": [
       "<Figure size 1000x500 with 1 Axes>"
      ]
     },
     "metadata": {},
     "output_type": "display_data"
    }
   ],
   "source": [
    "#Problem 6 : Given an expression:\n",
    "\n",
    "x = np.linspace(-5,5)\n",
    "y = 0.1 * x**3 - x**2 + 5\n",
    "\n",
    "maxy= 0.1 * 0**3 - 0**2 + 5\n",
    "\n",
    "miny=0.1 * -5**3 - -5**2 + 5\n",
    "\n",
    "graph = plt.figure(figsize= (10,5))\n",
    "plt.plot(x,y)\n",
    "\n",
    "plt.annotate('max', xy=(0,5), xytext=(1,1),arrowprops=dict(facecolor='black', shrink=0.02),)\n",
    "plt.annotate('min', xy=(-5,-32.5), xytext=(-4,-30),arrowprops=dict(facecolor='black', shrink=0.02),)\n",
    "\n",
    "plt.show()\n",
    "\n",
    "\n"
   ]
  }
 ],
 "metadata": {
  "kernelspec": {
   "display_name": "Python 3",
   "language": "python",
   "name": "python3"
  },
  "language_info": {
   "codemirror_mode": {
    "name": "ipython",
    "version": 3
   },
   "file_extension": ".py",
   "mimetype": "text/x-python",
   "name": "python",
   "nbconvert_exporter": "python",
   "pygments_lexer": "ipython3",
   "version": "3.9.16"
  },
  "orig_nbformat": 4,
  "vscode": {
   "interpreter": {
    "hash": "89dbf0bcdd788c2123be0ec2c0ccbbd1bf598aa22ea2917bd75986a5ff68b79c"
   }
  }
 },
 "nbformat": 4,
 "nbformat_minor": 2
}
